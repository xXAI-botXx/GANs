{
  "cells": [
    {
      "cell_type": "markdown",
      "metadata": {
        "id": "2c5wC3Rb-HL7"
      },
      "source": [
        "# CNN with TensorFlow and Keras"
      ]
    },
    {
      "cell_type": "markdown",
      "metadata": {
        "id": "UfCPW6od-MpP"
      },
      "source": [
        "### Hardware Check"
      ]
    },
    {
      "cell_type": "code",
      "execution_count": null,
      "metadata": {
        "colab": {
          "base_uri": "https://localhost:8080/"
        },
        "id": "s_q3YJgR-EFl",
        "outputId": "0973417c-93d3-4aad-b261-9b37d85cbb38"
      },
      "outputs": [],
      "source": [
        "def get_hardware_info(use_in_notebook=True, install_packages=True):\n",
        "    import platform\n",
        "    system_name = platform.system()\n",
        "    \n",
        "    if install_packages:\n",
        "        if system_name.lower() == \"windows\":\n",
        "            %pip install psutil    # or: conda install psutil\n",
        "            %pip install gputil\n",
        "            %pip install py-cpuinfo\n",
        "        elif system_name.lower() == \"linux\":\n",
        "            !pip install psutil    # or: conda install psutil\n",
        "            !pip install gputil\n",
        "            !pip install py-cpuinfo\n",
        "\n",
        "    # import needed packages\n",
        "    import psutil\n",
        "    import GPUtil\n",
        "    from cpuinfo import get_cpu_info\n",
        "\n",
        "    if use_in_notebook:\n",
        "        if install_packages:\n",
        "            if system_name.lower() == \"windows\":\n",
        "                %pip install ipython\n",
        "            elif system_name.lower() == \"linux\":\n",
        "                !pip install ipython\n",
        "\n",
        "        from IPython.display import clear_output\n",
        "        clear_output()\n",
        "\n",
        "    print(\"-\"*32, \"\\nYour Hardware:\\n\")\n",
        "\n",
        "    # General\n",
        "    print(\"    ---> General <---\")\n",
        "    print(\"Operatingsystem:\", platform.system())\n",
        "    print(\"Version:\", platform.version())\n",
        "    print(\"Architecture:\", platform.architecture())\n",
        "    print(\"Processor:\", platform.processor())\n",
        "\n",
        "    # GPU-Information\n",
        "    print(\"\\n    ---> GPU <---\")\n",
        "    gpus = GPUtil.getGPUs()\n",
        "    for gpu in gpus:\n",
        "        print(\"GPU Name:\", gpu.name)\n",
        "        print(\"VRAM Total:\", gpu.memoryTotal, \"MB\")\n",
        "        print(\"VRAM Used:\", gpu.memoryUsed, \"MB\")\n",
        "        print(\"Utilization:\", gpu.load * 100, \"%\")\n",
        "\n",
        "    # CPU-Information\n",
        "    print(\"\\n    ---> CPU <---\")\n",
        "    cpu_info = get_cpu_info()\n",
        "    print(\"CPU-Name:\", cpu_info[\"brand_raw\"])\n",
        "    print(\"CPU Kernels:\", psutil.cpu_count(logical=False))\n",
        "    print(\"Logical CPU-Kernels:\", psutil.cpu_count(logical=True))\n",
        "    print(\"CPU-Frequence:\", psutil.cpu_freq().max, \"MHz\")\n",
        "    print(\"CPU-Utilization:\", psutil.cpu_percent(interval=1), \"%\")\n",
        "\n",
        "    # RAM-Information\n",
        "    print(\"\\n    ---> RAM <---\")\n",
        "    ram = psutil.virtual_memory()\n",
        "    print(\"RAM Total:\", ram.total // (1024**3), \"GB\")\n",
        "    print(\"RAM Available:\", ram.available // (1024**3), \"GB\")\n",
        "    print(\"RAM-Utilization:\", ram.percent, \"%\")\n",
        "\n",
        "    print(f\"\\n{'-'*32}\")\n",
        "\n",
        "\n",
        "get_hardware_info()"
      ]
    },
    {
      "cell_type": "markdown",
      "metadata": {
        "id": "syp2BzSQFnSz"
      },
      "source": [
        "### Data Loading\n",
        "\n",
        "Using the CIFAR-10 Dataset. An image dataset with 10 classes with 60.000 images with size: 32 x 32 pixel. Each pixel can have a value between 0-255 for r, g amd b channel."
      ]
    },
    {
      "cell_type": "code",
      "execution_count": null,
      "metadata": {
        "colab": {
          "base_uri": "https://localhost:8080/"
        },
        "id": "ySpSFCkMGF49",
        "outputId": "86828a39-5d07-47bc-e4c6-a44e5d81ec6d"
      },
      "outputs": [],
      "source": [
        "import numpy as np\n",
        "from tensorflow.keras import datasets, utils\n",
        "\n",
        "(X_train, y_train), (X_test, y_test) = datasets.cifar10.load_data()\n",
        "\n",
        "NUM_CLASSES = 10\n",
        "MAX_PIXEL_VALUE = 255.0\n",
        "\n",
        "# scaling between 0 - 1, and adjust dtype for scaling\n",
        "X_train = X_train.astype(\"float32\")/MAX_PIXEL_VALUE\n",
        "X_test = X_test.astype(\"float32\")/MAX_PIXEL_VALUE\n",
        "\n",
        "# one-hot-encoding of target/labels to categories\n",
        "y_train = utils.to_categorical(y_train, NUM_CLASSES)\n",
        "y_test = utils.to_categorical(y_test, NUM_CLASSES)\n",
        "\n",
        "\n",
        "X_train[54, 12, 13, 1]"
      ]
    },
    {
      "cell_type": "markdown",
      "metadata": {
        "id": "gW2Qc8O3IB0X"
      },
      "source": [
        "### Build AI Model -> Sequential Model (not recommended)"
      ]
    },
    {
      "cell_type": "code",
      "execution_count": null,
      "metadata": {
        "colab": {
          "base_uri": "https://localhost:8080/"
        },
        "id": "7vbAwRzvIFOp",
        "outputId": "e405510a-b6e0-488f-f16a-49971ffa2e09"
      },
      "outputs": [],
      "source": [
        "from tensorflow.keras import layers, models\n",
        "\n",
        "model = models.Sequential([\n",
        "    # FIXME\n",
        "])"
      ]
    },
    {
      "cell_type": "markdown",
      "metadata": {
        "id": "goqyKdeDJF73"
      },
      "source": [
        "### Build AI Model -> functional API"
      ]
    },
    {
      "cell_type": "code",
      "execution_count": 13,
      "metadata": {
        "id": "wXEJcpl3JKvP"
      },
      "outputs": [],
      "source": [
        "from tensorflow.keras import layers, models\n",
        "\n",
        "input_layer = layers.Input(shape=(32, 32, 3))\n",
        "# FIXME\n",
        "output_layer = layers.Dense(units=10, activation='softmax')(x)\n",
        "\n",
        "model = models.Model(input_layer, output_layer)"
      ]
    },
    {
      "cell_type": "code",
      "execution_count": null,
      "metadata": {
        "colab": {
          "base_uri": "https://localhost:8080/",
          "height": 311
        },
        "id": "l3iW-cX1KVGw",
        "outputId": "ee28c2aa-a20f-41a5-9f8b-ce91f815d5b6"
      },
      "outputs": [],
      "source": [
        "model.summary()"
      ]
    },
    {
      "cell_type": "markdown",
      "metadata": {
        "id": "s6sq7HSBNl29"
      },
      "source": [
        "Every unit also includes one bias which adds/outputs another value which is adjustable/learnable, to learn more complex functions -> simplified it can be thought as the b in: f(x)=c*x+b. So the input of a unit is the units before + 1 bias.\n",
        "\n",
        "For example:\n",
        "- (3072 + 1) * 200 = 614600\n",
        "- (10 + 1) * 150 = 1510"
      ]
    },
    {
      "cell_type": "code",
      "execution_count": null,
      "metadata": {
        "colab": {
          "base_uri": "https://localhost:8080/",
          "height": 956
        },
        "id": "MbYCDl_NKlZ7",
        "outputId": "4586df1c-dd31-4651-af3f-a3e0f0436c79"
      },
      "outputs": [],
      "source": [
        "from tensorflow.keras.utils import plot_model\n",
        "\n",
        "plot_model(model, to_file='model.png', show_shapes=True, show_layer_names=True)"
      ]
    },
    {
      "cell_type": "markdown",
      "metadata": {
        "id": "Na3bO4qMPPzG"
      },
      "source": [
        "### Train the Model\n",
        "\n",
        "- compile/create the model with an optimizer (learning-startegy) and a loss function\n",
        "- train the model"
      ]
    },
    {
      "cell_type": "code",
      "execution_count": null,
      "metadata": {
        "colab": {
          "base_uri": "https://localhost:8080/"
        },
        "id": "iUctwDkePX1D",
        "outputId": "73eb3a46-0aef-4897-9d9a-ba35503ea553"
      },
      "outputs": [],
      "source": [
        "from tensorflow.keras import optimizers\n",
        "\n",
        "# 5e-4 = 5 * 10^-4\n",
        "optimizer = optimizers.Adam(learning_rate=5e-4)\n",
        "model.compile(\n",
        "    loss=\"categorical_crossentropy\",\n",
        "    optimizer=optimizer,\n",
        "    metrics=['accuracy']\n",
        ")\n",
        "\n",
        "model.fit(\n",
        "    X_train,\n",
        "    y_train,\n",
        "    batch_size=32,\n",
        "    epochs=10,\n",
        "    shuffle=True\n",
        ")"
      ]
    },
    {
      "cell_type": "code",
      "execution_count": null,
      "metadata": {
        "colab": {
          "base_uri": "https://localhost:8080/"
        },
        "id": "WEmpsBzUUTUK",
        "outputId": "153fa85f-e257-41c4-a672-f5a0542cc360"
      },
      "outputs": [],
      "source": [
        "get_hardware_info(install_packages=False)"
      ]
    },
    {
      "cell_type": "markdown",
      "metadata": {
        "id": "ohgmoV3HeH5Z"
      },
      "source": [
        "### Evaluation\n",
        "\n",
        "The evaluation function gives a list of metrics. First it outputs the loss then (in this case) the accuracy."
      ]
    },
    {
      "cell_type": "code",
      "execution_count": null,
      "metadata": {
        "colab": {
          "base_uri": "https://localhost:8080/"
        },
        "id": "aDn4GVpNeJsf",
        "outputId": "622f8c8d-c9a7-4c80-9925-275bfd65d82b"
      },
      "outputs": [],
      "source": [
        "model.evaluate(X_test, y_test)"
      ]
    },
    {
      "cell_type": "markdown",
      "metadata": {
        "id": "9VlDNCZveheQ"
      },
      "source": [
        "### Inferencing the Model (Predicting)"
      ]
    },
    {
      "cell_type": "code",
      "execution_count": null,
      "metadata": {
        "colab": {
          "base_uri": "https://localhost:8080/"
        },
        "id": "HFV7IjQBek_m",
        "outputId": "094dbdba-9c47-4e46-cbd9-d47003b25a4c"
      },
      "outputs": [],
      "source": [
        "CLASSES = np.array(['airplane', 'automobile', 'bird', 'cat', 'deer', 'dog', 'frog', 'horse', 'ship', 'truck'])\n",
        "\n",
        "predictions = model.predict(X_test)\n",
        "ground_truth = CLASSES[np.argmax(y_test, axis=-1)]\n",
        "print(\"Predictions as probabilities: \", predictions)\n",
        "print(\"\\nPredictions as most probably: \", np.argmax(predictions, axis=-1))\n",
        "print(\"\\nPredictions as most probably class: \", CLASSES[np.argmax(predictions, axis=-1)])\n",
        "predictions = CLASSES[np.argmax(predictions, axis=-1)]"
      ]
    },
    {
      "cell_type": "code",
      "execution_count": null,
      "metadata": {
        "colab": {
          "base_uri": "https://localhost:8080/"
        },
        "id": "5ryQJWDBgj3-",
        "outputId": "5598d3b1-44cc-464b-ee9d-896db5a65754"
      },
      "outputs": [],
      "source": [
        "# passing an nparray uses the elements as single index each -> so the previous code works\n",
        "CLASSES[np.array([0, 1, 2, 3])]"
      ]
    },
    {
      "cell_type": "code",
      "execution_count": null,
      "metadata": {
        "colab": {
          "base_uri": "https://localhost:8080/",
          "height": 202
        },
        "id": "y2gp1n7ugVJ5",
        "outputId": "42315f01-3f6c-476b-8d19-e91e1943b7a4"
      },
      "outputs": [],
      "source": [
        "import matplotlib.pyplot as plt\n",
        "\n",
        "images_to_show = 10\n",
        "image_idxs = np.random.choice(range(len(X_test)), images_to_show)\n",
        "\n",
        "rows = 2\n",
        "cols = images_to_show // rows + (images_to_show % rows > 0)\n",
        "\n",
        "fig, ax = plt.subplots(nrows=rows, ncols=cols, figsize=(15, 3))\n",
        "fig.subplots_adjust(hspace=1.2, wspace=0.4)\n",
        "ax = ax.ravel()    # ax.flatten()\n",
        "\n",
        "for i, cur_idx in enumerate(image_idxs):\n",
        "    cur_image = X_test[cur_idx]\n",
        "    ax[i].axis('off')\n",
        "    ax[i].text(0.5, -0.35, f\"pred = {predictions[cur_idx]}\", fontsize=10, ha='center', transform=ax[i].transAxes)\n",
        "    ax[i].text(0.5, -0.7, f\"real = {ground_truth[cur_idx]}\", fontsize=10, ha='center', transform=ax[i].transAxes)\n",
        "    ax[i].imshow(cur_image)\n",
        "\n",
        "plt.show();"
      ]
    }
  ],
  "metadata": {
    "accelerator": "GPU",
    "colab": {
      "gpuType": "T4",
      "provenance": []
    },
    "kernelspec": {
      "display_name": "Python 3",
      "name": "python3"
    },
    "language_info": {
      "name": "python"
    }
  },
  "nbformat": 4,
  "nbformat_minor": 0
}
